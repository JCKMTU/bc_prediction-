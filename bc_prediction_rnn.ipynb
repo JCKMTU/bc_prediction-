{
 "cells": [
  {
   "cell_type": "code",
   "execution_count": 54,
   "metadata": {},
   "outputs": [],
   "source": [
    "import numpy as np\n",
    "import pandas as pd\n",
    "from datetime import datetime\n",
    "from sklearn.preprocessing import MinMaxScaler"
   ]
  },
  {
   "cell_type": "code",
   "execution_count": 55,
   "metadata": {},
   "outputs": [
    {
     "data": {
      "text/plain": [
       "(4857377, 8)"
      ]
     },
     "metadata": {},
     "output_type": "display_data"
    },
    {
     "data": {
      "text/html": [
       "<div>\n",
       "<style scoped>\n",
       "    .dataframe tbody tr th:only-of-type {\n",
       "        vertical-align: middle;\n",
       "    }\n",
       "\n",
       "    .dataframe tbody tr th {\n",
       "        vertical-align: top;\n",
       "    }\n",
       "\n",
       "    .dataframe thead th {\n",
       "        text-align: right;\n",
       "    }\n",
       "</style>\n",
       "<table border=\"1\" class=\"dataframe\">\n",
       "  <thead>\n",
       "    <tr style=\"text-align: right;\">\n",
       "      <th></th>\n",
       "      <th>Timestamp</th>\n",
       "      <th>Open</th>\n",
       "      <th>High</th>\n",
       "      <th>Low</th>\n",
       "      <th>Close</th>\n",
       "      <th>Volume_(BTC)</th>\n",
       "      <th>Volume_(Currency)</th>\n",
       "      <th>Weighted_Price</th>\n",
       "    </tr>\n",
       "  </thead>\n",
       "  <tbody>\n",
       "    <tr>\n",
       "      <th>0</th>\n",
       "      <td>1325317920</td>\n",
       "      <td>4.39</td>\n",
       "      <td>4.39</td>\n",
       "      <td>4.39</td>\n",
       "      <td>4.39</td>\n",
       "      <td>0.455581</td>\n",
       "      <td>2.0</td>\n",
       "      <td>4.39</td>\n",
       "    </tr>\n",
       "  </tbody>\n",
       "</table>\n",
       "</div>"
      ],
      "text/plain": [
       "    Timestamp  Open  High   Low  Close  Volume_(BTC)  Volume_(Currency)  \\\n",
       "0  1325317920  4.39  4.39  4.39   4.39      0.455581                2.0   \n",
       "\n",
       "   Weighted_Price  \n",
       "0            4.39  "
      ]
     },
     "metadata": {},
     "output_type": "display_data"
    }
   ],
   "source": [
    "# reading data\n",
    "df = pd.read_csv('./data/bitstampUSD_1-min_data_2012-01-01_to_2021-03-31.csv')\n",
    "display(df.shape, df.head(1))"
   ]
  },
  {
   "cell_type": "code",
   "execution_count": 56,
   "metadata": {},
   "outputs": [
    {
     "data": {
      "text/html": [
       "<div>\n",
       "<style scoped>\n",
       "    .dataframe tbody tr th:only-of-type {\n",
       "        vertical-align: middle;\n",
       "    }\n",
       "\n",
       "    .dataframe tbody tr th {\n",
       "        vertical-align: top;\n",
       "    }\n",
       "\n",
       "    .dataframe thead th {\n",
       "        text-align: right;\n",
       "    }\n",
       "</style>\n",
       "<table border=\"1\" class=\"dataframe\">\n",
       "  <thead>\n",
       "    <tr style=\"text-align: right;\">\n",
       "      <th></th>\n",
       "      <th>Timestamp</th>\n",
       "      <th>Open</th>\n",
       "      <th>High</th>\n",
       "      <th>Low</th>\n",
       "      <th>Close</th>\n",
       "      <th>Volume_(BTC)</th>\n",
       "      <th>Volume_(Currency)</th>\n",
       "      <th>Weighted_Price</th>\n",
       "    </tr>\n",
       "  </thead>\n",
       "  <tbody>\n",
       "    <tr>\n",
       "      <th>4857372</th>\n",
       "      <td>1617148560</td>\n",
       "      <td>58714.31</td>\n",
       "      <td>58714.31</td>\n",
       "      <td>58686.00</td>\n",
       "      <td>58686.00</td>\n",
       "      <td>1.384487</td>\n",
       "      <td>81259.372187</td>\n",
       "      <td>58692.753339</td>\n",
       "    </tr>\n",
       "    <tr>\n",
       "      <th>4857373</th>\n",
       "      <td>1617148620</td>\n",
       "      <td>58683.97</td>\n",
       "      <td>58693.43</td>\n",
       "      <td>58683.97</td>\n",
       "      <td>58685.81</td>\n",
       "      <td>7.294848</td>\n",
       "      <td>428158.146640</td>\n",
       "      <td>58693.226508</td>\n",
       "    </tr>\n",
       "    <tr>\n",
       "      <th>4857374</th>\n",
       "      <td>1617148680</td>\n",
       "      <td>58693.43</td>\n",
       "      <td>58723.84</td>\n",
       "      <td>58693.43</td>\n",
       "      <td>58723.84</td>\n",
       "      <td>1.705682</td>\n",
       "      <td>100117.070370</td>\n",
       "      <td>58696.198496</td>\n",
       "    </tr>\n",
       "    <tr>\n",
       "      <th>4857375</th>\n",
       "      <td>1617148740</td>\n",
       "      <td>58742.18</td>\n",
       "      <td>58770.38</td>\n",
       "      <td>58742.18</td>\n",
       "      <td>58760.59</td>\n",
       "      <td>0.720415</td>\n",
       "      <td>42332.958633</td>\n",
       "      <td>58761.866202</td>\n",
       "    </tr>\n",
       "    <tr>\n",
       "      <th>4857376</th>\n",
       "      <td>1617148800</td>\n",
       "      <td>58767.75</td>\n",
       "      <td>58778.18</td>\n",
       "      <td>58755.97</td>\n",
       "      <td>58778.18</td>\n",
       "      <td>2.712831</td>\n",
       "      <td>159417.751000</td>\n",
       "      <td>58764.349363</td>\n",
       "    </tr>\n",
       "  </tbody>\n",
       "</table>\n",
       "</div>"
      ],
      "text/plain": [
       "          Timestamp      Open      High       Low     Close  Volume_(BTC)  \\\n",
       "4857372  1617148560  58714.31  58714.31  58686.00  58686.00      1.384487   \n",
       "4857373  1617148620  58683.97  58693.43  58683.97  58685.81      7.294848   \n",
       "4857374  1617148680  58693.43  58723.84  58693.43  58723.84      1.705682   \n",
       "4857375  1617148740  58742.18  58770.38  58742.18  58760.59      0.720415   \n",
       "4857376  1617148800  58767.75  58778.18  58755.97  58778.18      2.712831   \n",
       "\n",
       "         Volume_(Currency)  Weighted_Price  \n",
       "4857372       81259.372187    58692.753339  \n",
       "4857373      428158.146640    58693.226508  \n",
       "4857374      100117.070370    58696.198496  \n",
       "4857375       42332.958633    58761.866202  \n",
       "4857376      159417.751000    58764.349363  "
      ]
     },
     "execution_count": 56,
     "metadata": {},
     "output_type": "execute_result"
    }
   ],
   "source": [
    "# see most current data\n",
    "df.tail()"
   ]
  },
  {
   "cell_type": "code",
   "execution_count": 57,
   "metadata": {},
   "outputs": [
    {
     "data": {
      "text/html": [
       "<div>\n",
       "<style scoped>\n",
       "    .dataframe tbody tr th:only-of-type {\n",
       "        vertical-align: middle;\n",
       "    }\n",
       "\n",
       "    .dataframe tbody tr th {\n",
       "        vertical-align: top;\n",
       "    }\n",
       "\n",
       "    .dataframe thead th {\n",
       "        text-align: right;\n",
       "    }\n",
       "</style>\n",
       "<table border=\"1\" class=\"dataframe\">\n",
       "  <thead>\n",
       "    <tr style=\"text-align: right;\">\n",
       "      <th></th>\n",
       "      <th>Timestamp</th>\n",
       "      <th>Open</th>\n",
       "      <th>High</th>\n",
       "      <th>Low</th>\n",
       "      <th>Close</th>\n",
       "      <th>Volume_(BTC)</th>\n",
       "      <th>Volume_(Currency)</th>\n",
       "      <th>Weighted_Price</th>\n",
       "      <th>Datetime</th>\n",
       "    </tr>\n",
       "  </thead>\n",
       "  <tbody>\n",
       "    <tr>\n",
       "      <th>4857372</th>\n",
       "      <td>1617148560</td>\n",
       "      <td>58714.31</td>\n",
       "      <td>58714.31</td>\n",
       "      <td>58686.00</td>\n",
       "      <td>58686.00</td>\n",
       "      <td>1.384487</td>\n",
       "      <td>81259.372187</td>\n",
       "      <td>58692.753339</td>\n",
       "      <td>2021-03-30 23:56:00</td>\n",
       "    </tr>\n",
       "    <tr>\n",
       "      <th>4857373</th>\n",
       "      <td>1617148620</td>\n",
       "      <td>58683.97</td>\n",
       "      <td>58693.43</td>\n",
       "      <td>58683.97</td>\n",
       "      <td>58685.81</td>\n",
       "      <td>7.294848</td>\n",
       "      <td>428158.146640</td>\n",
       "      <td>58693.226508</td>\n",
       "      <td>2021-03-30 23:57:00</td>\n",
       "    </tr>\n",
       "    <tr>\n",
       "      <th>4857374</th>\n",
       "      <td>1617148680</td>\n",
       "      <td>58693.43</td>\n",
       "      <td>58723.84</td>\n",
       "      <td>58693.43</td>\n",
       "      <td>58723.84</td>\n",
       "      <td>1.705682</td>\n",
       "      <td>100117.070370</td>\n",
       "      <td>58696.198496</td>\n",
       "      <td>2021-03-30 23:58:00</td>\n",
       "    </tr>\n",
       "    <tr>\n",
       "      <th>4857375</th>\n",
       "      <td>1617148740</td>\n",
       "      <td>58742.18</td>\n",
       "      <td>58770.38</td>\n",
       "      <td>58742.18</td>\n",
       "      <td>58760.59</td>\n",
       "      <td>0.720415</td>\n",
       "      <td>42332.958633</td>\n",
       "      <td>58761.866202</td>\n",
       "      <td>2021-03-30 23:59:00</td>\n",
       "    </tr>\n",
       "    <tr>\n",
       "      <th>4857376</th>\n",
       "      <td>1617148800</td>\n",
       "      <td>58767.75</td>\n",
       "      <td>58778.18</td>\n",
       "      <td>58755.97</td>\n",
       "      <td>58778.18</td>\n",
       "      <td>2.712831</td>\n",
       "      <td>159417.751000</td>\n",
       "      <td>58764.349363</td>\n",
       "      <td>2021-03-31 00:00:00</td>\n",
       "    </tr>\n",
       "  </tbody>\n",
       "</table>\n",
       "</div>"
      ],
      "text/plain": [
       "          Timestamp      Open      High       Low     Close  Volume_(BTC)  \\\n",
       "4857372  1617148560  58714.31  58714.31  58686.00  58686.00      1.384487   \n",
       "4857373  1617148620  58683.97  58693.43  58683.97  58685.81      7.294848   \n",
       "4857374  1617148680  58693.43  58723.84  58693.43  58723.84      1.705682   \n",
       "4857375  1617148740  58742.18  58770.38  58742.18  58760.59      0.720415   \n",
       "4857376  1617148800  58767.75  58778.18  58755.97  58778.18      2.712831   \n",
       "\n",
       "         Volume_(Currency)  Weighted_Price            Datetime  \n",
       "4857372       81259.372187    58692.753339 2021-03-30 23:56:00  \n",
       "4857373      428158.146640    58693.226508 2021-03-30 23:57:00  \n",
       "4857374      100117.070370    58696.198496 2021-03-30 23:58:00  \n",
       "4857375       42332.958633    58761.866202 2021-03-30 23:59:00  \n",
       "4857376      159417.751000    58764.349363 2021-03-31 00:00:00  "
      ]
     },
     "execution_count": 57,
     "metadata": {},
     "output_type": "execute_result"
    }
   ],
   "source": [
    "# convert unix timestamp to datetime\n",
    "df['Datetime'] = df['Timestamp'].apply(datetime.utcfromtimestamp)\n",
    "df.tail()"
   ]
  },
  {
   "cell_type": "code",
   "execution_count": 58,
   "metadata": {},
   "outputs": [
    {
     "data": {
      "text/plain": [
       "Timestamp                  0\n",
       "Open                 1243608\n",
       "High                 1243608\n",
       "Low                  1243608\n",
       "Close                1243608\n",
       "Volume_(BTC)         1243608\n",
       "Volume_(Currency)    1243608\n",
       "Weighted_Price       1243608\n",
       "Datetime                   0\n",
       "dtype: int64"
      ]
     },
     "execution_count": 58,
     "metadata": {},
     "output_type": "execute_result"
    }
   ],
   "source": [
    "# check for null values \n",
    "df.isnull().sum()"
   ]
  },
  {
   "cell_type": "code",
   "execution_count": 59,
   "metadata": {},
   "outputs": [
    {
     "data": {
      "text/plain": [
       "<AxesSubplot:xlabel='Datetime'>"
      ]
     },
     "execution_count": 59,
     "metadata": {},
     "output_type": "execute_result"
    },
    {
     "data": {
      "image/png": "[encoded data removed]",
      "text/plain": [
       "<Figure size 432x288 with 1 Axes>"
      ]
     },
     "metadata": {
      "needs_background": "light"
     },
     "output_type": "display_data"
    }
   ],
   "source": [
    "df[['Datetime', 'Open']].set_index('Datetime').plot()"
   ]
  },
  {
   "cell_type": "code",
   "execution_count": 60,
   "metadata": {},
   "outputs": [
    {
     "name": "stdout",
     "output_type": "stream",
     "text": [
      "2011 964\n",
      "2012 500411\n",
      "2013 205839\n",
      "2014 127424\n",
      "2015 146393\n",
      "2016 174941\n",
      "2017 42268\n",
      "2018 19827\n",
      "2019 17260\n",
      "2020 8145\n",
      "2021 136\n"
     ]
    }
   ],
   "source": [
    "# check each year for null values\n",
    "df['Year'] = df['Datetime'].dt.year\n",
    "for y in df['Year'].unique():\n",
    "    print(y, df[df['Year'] == y]['Open'].isnull().sum())"
   ]
  },
  {
   "cell_type": "markdown",
   "metadata": {},
   "source": [
    "※ by looking at scarsity of null values. just getting rid of null values using dropna..."
   ]
  },
  {
   "cell_type": "code",
   "execution_count": 61,
   "metadata": {},
   "outputs": [
    {
     "data": {
      "text/plain": [
       "(3613769, 10)"
      ]
     },
     "metadata": {},
     "output_type": "display_data"
    },
    {
     "data": {
      "text/html": [
       "<div>\n",
       "<style scoped>\n",
       "    .dataframe tbody tr th:only-of-type {\n",
       "        vertical-align: middle;\n",
       "    }\n",
       "\n",
       "    .dataframe tbody tr th {\n",
       "        vertical-align: top;\n",
       "    }\n",
       "\n",
       "    .dataframe thead th {\n",
       "        text-align: right;\n",
       "    }\n",
       "</style>\n",
       "<table border=\"1\" class=\"dataframe\">\n",
       "  <thead>\n",
       "    <tr style=\"text-align: right;\">\n",
       "      <th></th>\n",
       "      <th>Timestamp</th>\n",
       "      <th>Open</th>\n",
       "      <th>High</th>\n",
       "      <th>Low</th>\n",
       "      <th>Close</th>\n",
       "      <th>Volume_(BTC)</th>\n",
       "      <th>Volume_(Currency)</th>\n",
       "      <th>Weighted_Price</th>\n",
       "      <th>Datetime</th>\n",
       "      <th>Year</th>\n",
       "    </tr>\n",
       "  </thead>\n",
       "  <tbody>\n",
       "    <tr>\n",
       "      <th>0</th>\n",
       "      <td>1325317920</td>\n",
       "      <td>4.39</td>\n",
       "      <td>4.39</td>\n",
       "      <td>4.39</td>\n",
       "      <td>4.39</td>\n",
       "      <td>0.455581</td>\n",
       "      <td>2.0</td>\n",
       "      <td>4.39</td>\n",
       "      <td>2011-12-31 07:52:00</td>\n",
       "      <td>2011</td>\n",
       "    </tr>\n",
       "  </tbody>\n",
       "</table>\n",
       "</div>"
      ],
      "text/plain": [
       "    Timestamp  Open  High   Low  Close  Volume_(BTC)  Volume_(Currency)  \\\n",
       "0  1325317920  4.39  4.39  4.39   4.39      0.455581                2.0   \n",
       "\n",
       "   Weighted_Price            Datetime  Year  \n",
       "0            4.39 2011-12-31 07:52:00  2011  "
      ]
     },
     "metadata": {},
     "output_type": "display_data"
    }
   ],
   "source": [
    "filtered = df.dropna(axis=0, subset=['Open'])\n",
    "display(filtered.shape, filtered.head(1))"
   ]
  },
  {
   "cell_type": "code",
   "execution_count": 62,
   "metadata": {},
   "outputs": [
    {
     "data": {
      "text/plain": [
       "(3485744, 10)"
      ]
     },
     "metadata": {},
     "output_type": "display_data"
    },
    {
     "data": {
      "text/html": [
       "<div>\n",
       "<style scoped>\n",
       "    .dataframe tbody tr th:only-of-type {\n",
       "        vertical-align: middle;\n",
       "    }\n",
       "\n",
       "    .dataframe tbody tr th {\n",
       "        vertical-align: top;\n",
       "    }\n",
       "\n",
       "    .dataframe thead th {\n",
       "        text-align: right;\n",
       "    }\n",
       "</style>\n",
       "<table border=\"1\" class=\"dataframe\">\n",
       "  <thead>\n",
       "    <tr style=\"text-align: right;\">\n",
       "      <th></th>\n",
       "      <th>Timestamp</th>\n",
       "      <th>Open</th>\n",
       "      <th>High</th>\n",
       "      <th>Low</th>\n",
       "      <th>Close</th>\n",
       "      <th>Volume_(BTC)</th>\n",
       "      <th>Volume_(Currency)</th>\n",
       "      <th>Weighted_Price</th>\n",
       "      <th>Datetime</th>\n",
       "      <th>Year</th>\n",
       "    </tr>\n",
       "  </thead>\n",
       "  <tbody>\n",
       "    <tr>\n",
       "      <th>0</th>\n",
       "      <td>1325317920</td>\n",
       "      <td>4.39</td>\n",
       "      <td>4.39</td>\n",
       "      <td>4.39</td>\n",
       "      <td>4.39</td>\n",
       "      <td>0.455581</td>\n",
       "      <td>2.0</td>\n",
       "      <td>4.39</td>\n",
       "      <td>2011-12-31 07:52:00</td>\n",
       "      <td>2011</td>\n",
       "    </tr>\n",
       "  </tbody>\n",
       "</table>\n",
       "</div>"
      ],
      "text/plain": [
       "    Timestamp  Open  High   Low  Close  Volume_(BTC)  Volume_(Currency)  \\\n",
       "0  1325317920  4.39  4.39  4.39   4.39      0.455581                2.0   \n",
       "\n",
       "   Weighted_Price            Datetime  Year  \n",
       "0            4.39 2011-12-31 07:52:00  2011  "
      ]
     },
     "metadata": {},
     "output_type": "display_data"
    }
   ],
   "source": [
    "ldf = filtered[filtered['Year'] < 2021].copy()\n",
    "display(ldf.shape, ldf.head(1))"
   ]
  },
  {
   "cell_type": "code",
   "execution_count": 63,
   "metadata": {},
   "outputs": [
    {
     "data": {
      "text/plain": [
       "(128025, 10)"
      ]
     },
     "metadata": {},
     "output_type": "display_data"
    },
    {
     "data": {
      "text/html": [
       "<div>\n",
       "<style scoped>\n",
       "    .dataframe tbody tr th:only-of-type {\n",
       "        vertical-align: middle;\n",
       "    }\n",
       "\n",
       "    .dataframe tbody tr th {\n",
       "        vertical-align: top;\n",
       "    }\n",
       "\n",
       "    .dataframe thead th {\n",
       "        text-align: right;\n",
       "    }\n",
       "</style>\n",
       "<table border=\"1\" class=\"dataframe\">\n",
       "  <thead>\n",
       "    <tr style=\"text-align: right;\">\n",
       "      <th></th>\n",
       "      <th>Timestamp</th>\n",
       "      <th>Open</th>\n",
       "      <th>High</th>\n",
       "      <th>Low</th>\n",
       "      <th>Close</th>\n",
       "      <th>Volume_(BTC)</th>\n",
       "      <th>Volume_(Currency)</th>\n",
       "      <th>Weighted_Price</th>\n",
       "      <th>Datetime</th>\n",
       "      <th>Year</th>\n",
       "    </tr>\n",
       "  </thead>\n",
       "  <tbody>\n",
       "    <tr>\n",
       "      <th>4729216</th>\n",
       "      <td>1609459200</td>\n",
       "      <td>28999.63</td>\n",
       "      <td>29022.01</td>\n",
       "      <td>28999.14</td>\n",
       "      <td>29006.31</td>\n",
       "      <td>0.86158</td>\n",
       "      <td>24990.483661</td>\n",
       "      <td>29005.427056</td>\n",
       "      <td>2021-01-01</td>\n",
       "      <td>2021</td>\n",
       "    </tr>\n",
       "  </tbody>\n",
       "</table>\n",
       "</div>"
      ],
      "text/plain": [
       "          Timestamp      Open      High       Low     Close  Volume_(BTC)  \\\n",
       "4729216  1609459200  28999.63  29022.01  28999.14  29006.31       0.86158   \n",
       "\n",
       "         Volume_(Currency)  Weighted_Price   Datetime  Year  \n",
       "4729216       24990.483661    29005.427056 2021-01-01  2021  "
      ]
     },
     "metadata": {},
     "output_type": "display_data"
    }
   ],
   "source": [
    "pdf = filtered[filtered['Year'] == 2021].copy()\n",
    "display(pdf.shape, pdf.head(1))"
   ]
  },
  {
   "cell_type": "code",
   "execution_count": 64,
   "metadata": {},
   "outputs": [],
   "source": [
    "# sort data by timestamp\n",
    "ldf.sort_values('Timestamp', inplace=True)\n",
    "pdf.sort_values('Timestamp', inplace=True)"
   ]
  },
  {
   "cell_type": "code",
   "execution_count": 65,
   "metadata": {},
   "outputs": [
    {
     "data": {
      "text/html": [
       "<div>\n",
       "<style scoped>\n",
       "    .dataframe tbody tr th:only-of-type {\n",
       "        vertical-align: middle;\n",
       "    }\n",
       "\n",
       "    .dataframe tbody tr th {\n",
       "        vertical-align: top;\n",
       "    }\n",
       "\n",
       "    .dataframe thead th {\n",
       "        text-align: right;\n",
       "    }\n",
       "</style>\n",
       "<table border=\"1\" class=\"dataframe\">\n",
       "  <thead>\n",
       "    <tr style=\"text-align: right;\">\n",
       "      <th></th>\n",
       "      <th>Datetime</th>\n",
       "      <th>Timestamp</th>\n",
       "      <th>Year</th>\n",
       "    </tr>\n",
       "  </thead>\n",
       "  <tbody>\n",
       "    <tr>\n",
       "      <th>0</th>\n",
       "      <td>2011-12-31 07:52:00</td>\n",
       "      <td>1325317920</td>\n",
       "      <td>2011</td>\n",
       "    </tr>\n",
       "  </tbody>\n",
       "</table>\n",
       "</div>"
      ],
      "text/plain": [
       "             Datetime   Timestamp  Year\n",
       "0 2011-12-31 07:52:00  1325317920  2011"
      ]
     },
     "metadata": {},
     "output_type": "display_data"
    },
    {
     "data": {
      "text/html": [
       "<div>\n",
       "<style scoped>\n",
       "    .dataframe tbody tr th:only-of-type {\n",
       "        vertical-align: middle;\n",
       "    }\n",
       "\n",
       "    .dataframe tbody tr th {\n",
       "        vertical-align: top;\n",
       "    }\n",
       "\n",
       "    .dataframe thead th {\n",
       "        text-align: right;\n",
       "    }\n",
       "</style>\n",
       "<table border=\"1\" class=\"dataframe\">\n",
       "  <thead>\n",
       "    <tr style=\"text-align: right;\">\n",
       "      <th></th>\n",
       "      <th>Open</th>\n",
       "      <th>High</th>\n",
       "      <th>Low</th>\n",
       "      <th>Close</th>\n",
       "      <th>Volume_(BTC)</th>\n",
       "      <th>Volume_(Currency)</th>\n",
       "      <th>Weighted_Price</th>\n",
       "    </tr>\n",
       "  </thead>\n",
       "  <tbody>\n",
       "    <tr>\n",
       "      <th>0</th>\n",
       "      <td>4.39</td>\n",
       "      <td>4.39</td>\n",
       "      <td>4.39</td>\n",
       "      <td>4.39</td>\n",
       "      <td>0.455581</td>\n",
       "      <td>2.0</td>\n",
       "      <td>4.39</td>\n",
       "    </tr>\n",
       "  </tbody>\n",
       "</table>\n",
       "</div>"
      ],
      "text/plain": [
       "   Open  High   Low  Close  Volume_(BTC)  Volume_(Currency)  Weighted_Price\n",
       "0  4.39  4.39  4.39   4.39      0.455581                2.0            4.39"
      ]
     },
     "metadata": {},
     "output_type": "display_data"
    },
    {
     "data": {
      "text/html": [
       "<div>\n",
       "<style scoped>\n",
       "    .dataframe tbody tr th:only-of-type {\n",
       "        vertical-align: middle;\n",
       "    }\n",
       "\n",
       "    .dataframe tbody tr th {\n",
       "        vertical-align: top;\n",
       "    }\n",
       "\n",
       "    .dataframe thead th {\n",
       "        text-align: right;\n",
       "    }\n",
       "</style>\n",
       "<table border=\"1\" class=\"dataframe\">\n",
       "  <thead>\n",
       "    <tr style=\"text-align: right;\">\n",
       "      <th></th>\n",
       "      <th>Datetime</th>\n",
       "      <th>Timestamp</th>\n",
       "      <th>Year</th>\n",
       "    </tr>\n",
       "  </thead>\n",
       "  <tbody>\n",
       "    <tr>\n",
       "      <th>4729216</th>\n",
       "      <td>2021-01-01</td>\n",
       "      <td>1609459200</td>\n",
       "      <td>2021</td>\n",
       "    </tr>\n",
       "  </tbody>\n",
       "</table>\n",
       "</div>"
      ],
      "text/plain": [
       "          Datetime   Timestamp  Year\n",
       "4729216 2021-01-01  1609459200  2021"
      ]
     },
     "metadata": {},
     "output_type": "display_data"
    },
    {
     "data": {
      "text/html": [
       "<div>\n",
       "<style scoped>\n",
       "    .dataframe tbody tr th:only-of-type {\n",
       "        vertical-align: middle;\n",
       "    }\n",
       "\n",
       "    .dataframe tbody tr th {\n",
       "        vertical-align: top;\n",
       "    }\n",
       "\n",
       "    .dataframe thead th {\n",
       "        text-align: right;\n",
       "    }\n",
       "</style>\n",
       "<table border=\"1\" class=\"dataframe\">\n",
       "  <thead>\n",
       "    <tr style=\"text-align: right;\">\n",
       "      <th></th>\n",
       "      <th>Open</th>\n",
       "      <th>High</th>\n",
       "      <th>Low</th>\n",
       "      <th>Close</th>\n",
       "      <th>Volume_(BTC)</th>\n",
       "      <th>Volume_(Currency)</th>\n",
       "      <th>Weighted_Price</th>\n",
       "    </tr>\n",
       "  </thead>\n",
       "  <tbody>\n",
       "    <tr>\n",
       "      <th>4729216</th>\n",
       "      <td>28999.63</td>\n",
       "      <td>29022.01</td>\n",
       "      <td>28999.14</td>\n",
       "      <td>29006.31</td>\n",
       "      <td>0.86158</td>\n",
       "      <td>24990.483661</td>\n",
       "      <td>29005.427056</td>\n",
       "    </tr>\n",
       "  </tbody>\n",
       "</table>\n",
       "</div>"
      ],
      "text/plain": [
       "             Open      High       Low     Close  Volume_(BTC)  \\\n",
       "4729216  28999.63  29022.01  28999.14  29006.31       0.86158   \n",
       "\n",
       "         Volume_(Currency)  Weighted_Price  \n",
       "4729216       24990.483661    29005.427056  "
      ]
     },
     "metadata": {},
     "output_type": "display_data"
    }
   ],
   "source": [
    "# split keys for normalization\n",
    "ldf_keys = ldf[['Datetime', 'Timestamp', 'Year']]\n",
    "ldf = ldf.drop(['Datetime', 'Timestamp', 'Year'], axis=1)\n",
    "\n",
    "display(ldf_keys.head(1), ldf.head(1), pdf_keys.head(1), pdf.head(1))"
   ]
  },
  {
   "cell_type": "code",
   "execution_count": 67,
   "metadata": {},
   "outputs": [
    {
     "data": {
      "text/plain": [
       "(3485744, 7)"
      ]
     },
     "metadata": {},
     "output_type": "display_data"
    },
    {
     "data": {
      "text/plain": [
       "array([2.01391719e-05, 2.01391307e-05, 9.87510892e-05, 9.86400641e-05,\n",
       "       8.19972877e-03, 2.01723383e-05, 2.01487413e-05])"
      ]
     },
     "metadata": {},
     "output_type": "display_data"
    }
   ],
   "source": [
    "# normalize data\n",
    "scaler = MinMaxScaler()\n",
    "ldf = scaler.fit_transform(ldf)\n",
    "display(ldf.shape, ldf[1])"
   ]
  },
  {
   "cell_type": "code",
   "execution_count": 68,
   "metadata": {},
   "outputs": [],
   "source": [
    "X_train = []\n",
    "Y_train = []"
   ]
  },
  {
   "cell_type": "code",
   "execution_count": 70,
   "metadata": {},
   "outputs": [
    {
     "data": {
      "text/plain": [
       "(3485684, 60, 7)"
      ]
     },
     "metadata": {},
     "output_type": "display_data"
    },
    {
     "data": {
      "text/plain": [
       "(3485684,)"
      ]
     },
     "metadata": {},
     "output_type": "display_data"
    }
   ],
   "source": [
    "# make 'open' values as target values\n",
    "for i in range(60, ldf.shape[0]):\n",
    "    X_train.append(ldf[i-60: i])\n",
    "    Y_train.append(ldf[i, 0])\n",
    "X_train, Y_train = np.array(X_train), np.array(Y_train)\n",
    "display(X_train.shape, Y_train.shape)"
   ]
  },
  {
   "cell_type": "code",
   "execution_count": 4,
   "metadata": {},
   "outputs": [
    {
     "ename": "ModuleNotFoundError",
     "evalue": "No module named 'tensorflow'",
     "output_type": "error",
     "traceback": [
      "\u001b[0;31m---------------------------------------------------------------------------\u001b[0m",
      "\u001b[0;31mModuleNotFoundError\u001b[0m                       Traceback (most recent call last)",
      "\u001b[0;32m<ipython-input-4-ee46a08339bf>\u001b[0m in \u001b[0;36m<module>\u001b[0;34m\u001b[0m\n\u001b[1;32m      1\u001b[0m \u001b[0;31m# train using rnn\u001b[0m\u001b[0;34m\u001b[0m\u001b[0;34m\u001b[0m\u001b[0;34m\u001b[0m\u001b[0m\n\u001b[0;32m----> 2\u001b[0;31m \u001b[0;32mfrom\u001b[0m \u001b[0mtensorflow\u001b[0m\u001b[0;34m.\u001b[0m\u001b[0mkeras\u001b[0m \u001b[0;32mimport\u001b[0m \u001b[0mSequential\u001b[0m\u001b[0;34m\u001b[0m\u001b[0;34m\u001b[0m\u001b[0m\n\u001b[0m\u001b[1;32m      3\u001b[0m \u001b[0;32mfrom\u001b[0m \u001b[0mtensorflow\u001b[0m\u001b[0;34m.\u001b[0m\u001b[0mkeras\u001b[0m\u001b[0;34m.\u001b[0m\u001b[0mlayers\u001b[0m \u001b[0;32mimport\u001b[0m \u001b[0mDense\u001b[0m\u001b[0;34m,\u001b[0m \u001b[0mLSTM\u001b[0m\u001b[0;34m,\u001b[0m \u001b[0mDropout\u001b[0m\u001b[0;34m\u001b[0m\u001b[0;34m\u001b[0m\u001b[0m\n",
      "\u001b[0;31mModuleNotFoundError\u001b[0m: No module named 'tensorflow'"
     ]
    }
   ],
   "source": [
    "# train using rnn\n",
    "from tensorflow.keras import Sequential\n",
    "from tensorflow.keras.layers import Dense, LSTM, Dropout"
   ]
  },
  {
   "cell_type": "code",
   "execution_count": null,
   "metadata": {},
   "outputs": [],
   "source": [
    "# initialize rnn\n",
    "model = Sequential()\n",
    "model.add(LSTM(\n",
    "    units=50,\n",
    "    activation='relu',\n",
    "    return_sequences=True,\n",
    "    input_shape=(X_train.shape[1], 5)))\n",
    "\n",
    "model.add(Dropout(0.2))\n",
    "model.add(LSTM(\n",
    "    unites=60, \n",
    "    activation='relu',\n",
    "    return_sequences=True))\n",
    "\n",
    "model.add(Dropout(0.3))\n",
    "model.add(LSTM(\n",
    "    unites=80, \n",
    "    activation='relu',\n",
    "    return_sequences=True))\n",
    "\n",
    "model.add(Dropout(0.4))\n",
    "model.add(LSTM(\n",
    "    unites=120, \n",
    "    activation='relu',\n",
    "    return_sequences=True))\n",
    "\n",
    "model.add(Dropout(0.5))\n",
    "model.add(Dense(units=1))\n",
    "\n",
    "model.summary()"
   ]
  },
  {
   "cell_type": "code",
   "execution_count": null,
   "metadata": {},
   "outputs": [],
   "source": [
    "# compile model\n",
    "model.compile(optimizer='adam', loss='mean_squared_error')"
   ]
  },
  {
   "cell_type": "code",
   "execution_count": null,
   "metadata": {},
   "outputs": [],
   "source": [
    "# learning model\n",
    "history = model.fit(X_train,\n",
    "                    Y_train,\n",
    "                    epochs=20,\n",
    "                    batch_size=128,\n",
    "                    validation_split=0.1)"
   ]
  },
  {
   "cell_type": "code",
   "execution_count": null,
   "metadata": {},
   "outputs": [],
   "source": [
    "loss = history.history['loss']\n",
    "val_loss = history.history['val_loss']\n",
    "epochs = range(len(loss))\n",
    "plt.figure\n",
    "plt.plot(epochs, loss, 'b', label='Training loss')\n",
    "plt.plot(epochs, val_loss, 'r', label='Validation loss')\n",
    "plt.title(\"Training and Validation Loss\")\n",
    "plt.legend()\n",
    "plt.show()"
   ]
  },
  {
   "cell_type": "code",
   "execution_count": null,
   "metadata": {},
   "outputs": [],
   "source": [
    "# Prepare data for prediction\n",
    "last_60_mins = pd.concat([ldf_keys.tail(60), ldf.tail(60)], axis=1) # get last 60 minutes of training data\n",
    "pdf = last_60_mins(pdf, ignore_index=True)\n",
    "\n",
    "# split keys for normalization\n",
    "pdf_keys = pdf[['Datetime', 'Timestamp', 'Year']]\n",
    "pdf = pdf.drop(['Datetime', 'Timestamp', 'Year'], axis=1)\n",
    "\n",
    "display(pdf_keys.shape, pdf.shape)"
   ]
  },
  {
   "cell_type": "code",
   "execution_count": null,
   "metadata": {},
   "outputs": [],
   "source": [
    "pdf = scaler.transform(pdf)\n",
    "pdf"
   ]
  },
  {
   "cell_type": "code",
   "execution_count": null,
   "metadata": {},
   "outputs": [],
   "source": [
    "X_test = []\n",
    "Y_test = []"
   ]
  },
  {
   "cell_type": "code",
   "execution_count": null,
   "metadata": {},
   "outputs": [],
   "source": [
    "for i in range(60, pdf.shape[0]):\n",
    "    X_test.append(pdf[i - 60: i])\n",
    "    Y_test.append(pdf[i, 0])\n",
    "X_test, Y_test = np.array(X_test), np.array(Y_test)\n",
    "display(X_test.shape, Y_test.shape)"
   ]
  },
  {
   "cell_type": "code",
   "execution_count": null,
   "metadata": {},
   "outputs": [],
   "source": [
    "Y_pred = model.predict(X_test)"
   ]
  },
  {
   "cell_type": "code",
   "execution_count": null,
   "metadata": {},
   "outputs": [],
   "source": [
    "# get scaler value\n",
    "scale = scaler.scale_"
   ]
  },
  {
   "cell_type": "code",
   "execution_count": null,
   "metadata": {},
   "outputs": [],
   "source": [
    "# change it back to actual values\n",
    "Y_test = Y_test * scale\n",
    "Y_pred = Y_pred * scale"
   ]
  },
  {
   "cell_type": "code",
   "execution_count": null,
   "metadata": {},
   "outputs": [],
   "source": [
    "pd.DataFrame([Y_test, Y_pred])"
   ]
  },
  {
   "cell_type": "code",
   "execution_count": null,
   "metadata": {},
   "outputs": [],
   "source": [
    "plt.figure(figsize=(14,5))\n",
    "plt.plot(Y_test, color = 'red', label = 'Real Bitcoin Price')\n",
    "plt.plot(Y_pred, color = 'green', label = 'Predicted Bitcoin Price')\n",
    "plt.title('Bitcoin Price Prediction using RNN-LSTM')\n",
    "plt.xlabel('Time')\n",
    "plt.ylabel('Price')\n",
    "plt.legend()\n",
    "plt.show()"
   ]
  }
 ],
 "metadata": {
  "kernelspec": {
   "display_name": "Python (env)",
   "language": "python",
   "name": "env"
  },
  "language_info": {
   "codemirror_mode": {
    "name": "ipython",
    "version": 3
   },
   "file_extension": ".py",
   "mimetype": "text/x-python",
   "name": "python",
   "nbconvert_exporter": "python",
   "pygments_lexer": "ipython3",
   "version": "3.6.9"
  }
 },
 "nbformat": 4,
 "nbformat_minor": 4
}
