{
 "cells": [
  {
   "cell_type": "code",
   "execution_count": 1,
   "metadata": {},
   "outputs": [],
   "source": [
    "import json, requests, time\n",
    "import numpy as np\n",
    "import pandas as pd"
   ]
  },
  {
   "cell_type": "code",
   "execution_count": 2,
   "metadata": {},
   "outputs": [],
   "source": [
    "t = 3\n",
    "URL = \"https://coincheck.com\"\n",
    "\n",
    "\n",
    "class Coincheck:\n",
    "    def __init__(self, url=URL):\n",
    "        self.url = url\n",
    "\n",
    "    def get_ticker(self):\n",
    "        return requests.get(self.url + '/api/ticker').json()\n",
    "\n",
    "    def get_trades(self):\n",
    "        return requests.get(self.url + '/api/trades').json()\n",
    "\n",
    "    def get_order_books(self):\n",
    "        return requests.get(self.url + '/api/order_books').json()\n",
    "\n",
    "    def get_rate(self):\n",
    "        return requests.get(self.url + '/api/exchange/orders/rate').json()\n",
    "\n",
    "\n",
    "def main():\n",
    "    cc = Coincheck()\n",
    "\n",
    "    while True:\n",
    "        for key, item in cc.get_ticker().items():\n",
    "            print(\"%-9s : %-10.9s \" % (key, item))\n",
    "        \n",
    "        time.sleep(t)"
   ]
  },
  {
   "cell_type": "code",
   "execution_count": 8,
   "metadata": {},
   "outputs": [],
   "source": [
    "cc = Coincheck()"
   ]
  },
  {
   "cell_type": "code",
   "execution_count": 11,
   "metadata": {},
   "outputs": [
    {
     "name": "stdout",
     "output_type": "stream",
     "text": [
      "4630892.0\n",
      "4630892.0\n",
      "4630892.0\n",
      "4630892.0\n",
      "4630892.0\n",
      "4630892.0\n",
      "4630892.0\n",
      "4630000.0\n",
      "4630000.0\n",
      "4630000.0\n",
      "4630000.0\n",
      "4630000.0\n",
      "4630000.0\n",
      "4630000.0\n",
      "4630000.0\n",
      "4632499.0\n"
     ]
    }
   ],
   "source": [
    "t = 1\n",
    "inputs = []\n",
    "\n",
    "for i in range(16):\n",
    "    last = cc.get_ticker()['last']\n",
    "    print(last)\n",
    "    inputs.append(last)\n",
    "    time.sleep(t)"
   ]
  },
  {
   "cell_type": "code",
   "execution_count": 17,
   "metadata": {},
   "outputs": [
    {
     "data": {
      "text/plain": [
       "[4632499.0,\n",
       " 4630000.0,\n",
       " 4630000.0,\n",
       " 4630000.0,\n",
       " 4630000.0,\n",
       " 4630000.0,\n",
       " 4630000.0,\n",
       " 4630000.0,\n",
       " 4630000.0,\n",
       " 4630892.0,\n",
       " 4630892.0,\n",
       " 4630892.0,\n",
       " 4630892.0,\n",
       " 4630892.0,\n",
       " 4630892.0,\n",
       " 4630892.0]"
      ]
     },
     "execution_count": 17,
     "metadata": {},
     "output_type": "execute_result"
    }
   ],
   "source": [
    "reverse = [e for e in reversed(inputs)]\n",
    "reverse"
   ]
  }
 ],
 "metadata": {
  "kernelspec": {
   "display_name": "Python (env)",
   "language": "python",
   "name": "env"
  }
 },
 "nbformat": 4,
 "nbformat_minor": 4
}
